{
 "cells": [
  {
   "cell_type": "markdown",
   "metadata": {
    "id": "wr-boZ3yKESO"
   },
   "source": [
    "# Generate Rubric For All Students"
   ]
  },
  {
   "cell_type": "markdown",
   "metadata": {
    "id": "6N2gxKYktQG9"
   },
   "source": [
    "## Install Necessary Libraries"
   ]
  },
  {
   "cell_type": "code",
   "execution_count": null,
   "metadata": {
    "id": "MNfsbOvstQG_"
   },
   "outputs": [],
   "source": [
    "#!pip install oauth2client\n",
    "#!pip install PyOpenSSL\n",
    "#!pip install gspread"
   ]
  },
  {
   "cell_type": "markdown",
   "metadata": {
    "id": "_s5RhX3ELTD0"
   },
   "source": [
    "## Import Libraries"
   ]
  },
  {
   "cell_type": "code",
   "execution_count": null,
   "metadata": {
    "id": "UVgrrWvpLTD9"
   },
   "outputs": [],
   "source": [
    "import pandas as pd\n",
    "import gspread\n",
    "import io\n",
    "from oauth2client.service_account import ServiceAccountCredentials\n",
    "from google.colab import files"
   ]
  },
  {
   "cell_type": "markdown",
   "metadata": {
    "id": "V-ZaKCC7MFEI"
   },
   "source": [
    "## Initialise Authorisation"
   ]
  },
  {
   "cell_type": "code",
   "execution_count": null,
   "metadata": {
    "id": "TGjVRQLUMFEI"
   },
   "outputs": [],
   "source": [
    "# Init Google (with Auth)\n",
    "\n",
    "file_path = r\"<YOUR KEY FILE PATH>.json\"\n",
    "\n",
    "scope = ['https://spreadsheets.google.com/feeds',\n",
    "         'https://www.googleapis.com/auth/drive']\n",
    "\n",
    "credentials = ServiceAccountCredentials.from_json_keyfile_name(file_path, scope)\n",
    "\n",
    "gc = gspread.authorize(credentials)"
   ]
  },
  {
   "cell_type": "markdown",
   "metadata": {
    "id": "jaE9m-y-MKRP"
   },
   "source": [
    "## Get Student Class List"
   ]
  },
  {
   "cell_type": "code",
   "execution_count": null,
   "metadata": {
    "colab": {
     "base_uri": "https://localhost:8080/"
    },
    "id": "tGamJM3TMKRP",
    "outputId": "9fcd44f1-063e-4b52-d7bb-3c429de1f142"
   },
   "outputs": [],
   "source": [
    "# Open Spreadsheet\n",
    "spreadsheet = gc.open('Class List')\n",
    "\n",
    "# Get Student Class List\n",
    "student_list_sheet = spreadsheet.get_worksheet(0)\n",
    "student_list = student_list_sheet.get_all_values()\n",
    "student_headers = student_list.pop(0)\n",
    "\n",
    "# Read Student Class List into DataFrame\n",
    "df_students = pd.DataFrame(student_list, columns=student_headers)\n",
    "\n",
    "df_students"
   ]
  },
  {
   "cell_type": "markdown",
   "metadata": {
    "id": "8DobQYJDKMjp"
   },
   "source": [
    "## Create Rubric File From Template"
   ]
  },
  {
   "cell_type": "code",
   "execution_count": null,
   "metadata": {
    "colab": {
     "base_uri": "https://localhost:8080/"
    },
    "id": "z3kILipoLfTu",
    "outputId": "c6d01d8f-8454-4750-c1f2-fffd173d5f5f"
   },
   "outputs": [],
   "source": [
    "template_spreadsheet = gc.open('Template_Rubric')\n",
    "\n",
    "detailed_rubric = template_spreadsheet.get_worksheet(0)\n",
    "rubric_summary = template_spreadsheet.get_worksheet(1)\n",
    "\n",
    "for index, element in df_students.iterrows():\n",
    "  \n",
    "    print(element['Student Number'])\n",
    "\n",
    "    # Create Workbook\n",
    "    workbook = gc.create('{}_Rubric'.format(element['Student Number']), folder_id='1rfLkOvPfIWb3FgooeN-mL5NHVxhdU03H')\n",
    "\n",
    "    # Update Rubric Path (in Student Class List)\n",
    "    sheet_id = workbook.id\n",
    "    sheet_url = 'https://docs.google.com/spreadsheets/d/{}/'.format(sheet_id)\n",
    "\n",
    "    # Update Student Rubric Path\n",
    "    student_list_sheet.update('D{}'.format(index + 2), sheet_url)\n",
    "\n",
    "    # Duplicate Spreadsheets\n",
    "    detailed_rubric_worksheet = detailed_rubric.copy_to(spreadsheet_id=workbook.id)\n",
    "    rubric_summary_worksheet = rubric_summary.copy_to(spreadsheet_id=workbook.id)\n",
    "\n",
    "    # Delete Sheet1\n",
    "    worksheet = workbook.sheet1\n",
    "    workbook.del_worksheet(worksheet)\n",
    "\n",
    "    # Get Duplicated Spreadsheets\n",
    "    student_spreadsheet = gc.open('{}_Rubric'.format(element['Student Number']))\n",
    "    detailed_rubric_worksheet = student_spreadsheet.get_worksheet(0)\n",
    "    rubric_summary_worksheet = student_spreadsheet.get_worksheet(1)\n",
    "\n",
    "    # Update Sheetnames\n",
    "    detailed_rubric_worksheet.update_title('Detailed Rubric')\n",
    "    rubric_summary_worksheet.update_title('Rubric Summary')\n",
    "\n",
    "    # Update Student Information\n",
    "    detailed_rubric_worksheet.update('B1', str(element['Initials']))\n",
    "    detailed_rubric_worksheet.update('B2', element['Surname'])\n",
    "    detailed_rubric_worksheet.update('B3', element['Student Number'])\n",
    "\n",
    "    # Update #REFs in Student Rubric - Student Information\n",
    "    for row in range(1, 5, 1):\n",
    "\n",
    "        # Get Formula  \n",
    "        cell = rubric_summary_worksheet.acell(f'B{row}', value_render_option='FORMULA').value\n",
    "\n",
    "        # Set Formula\n",
    "        rubric_summary_worksheet.update(f\"B{row}\", cell, raw=False)\n",
    "\n",
    "    # Update #REFs in Student Rubric - Student Summary Marks\n",
    "    for row in range(7, 19, 1):\n",
    "\n",
    "        # Get Formula    \n",
    "        cell = rubric_summary_worksheet.acell(f'D{row}', value_render_option='FORMULA').value\n",
    "\n",
    "        # Set Formula\n",
    "        rubric_summary_worksheet.update(f\"D{row}\", cell, raw=False)\n"
   ]
  },
  {
   "cell_type": "markdown",
   "metadata": {
    "id": "q7OqpXeoxs0Y"
   },
   "source": [
    "# Update Student Class Results\n"
   ]
  },
  {
   "cell_type": "markdown",
   "metadata": {
    "id": "v5ap-m-0nj4h"
   },
   "source": [
    "## Write Individual Student Rubrics to All Student Results"
   ]
  },
  {
   "cell_type": "markdown",
   "metadata": {
    "id": "RbtI03IotQHB"
   },
   "source": [
    "## Get All Data From Current Student Rubric File"
   ]
  },
  {
   "cell_type": "code",
   "execution_count": null,
   "metadata": {
    "id": "mSXkehk0tQHC"
   },
   "outputs": [],
   "source": [
    "def GetData(workbook):\n",
    "    \n",
    "    # Open Spreadsheet\n",
    "    spreadsheet = gc.open(workbook)\n",
    "\n",
    "    # Retrieve Student Number From Spreadsheet\n",
    "    student_number = spreadsheet.get_worksheet(1).get('B3') # saves as list of list\n",
    "    student_number = student_number[0][0]\n",
    "\n",
    "    # Get Detailed Rubric\n",
    "    detailed_rubric = spreadsheet.get_worksheet(0).get('A6:H42')\n",
    "    rubric_headers = detailed_rubric.pop(0)\n",
    "\n",
    "    # Get Category Rubric\n",
    "    category_rubric = spreadsheet.get_worksheet(1).get('G6:J9')\n",
    "    category_rubric_headers = category_rubric.pop(0)\n",
    "\n",
    "    # Get Sub-Category Rubric\n",
    "    sub_category_rubric = spreadsheet.get_worksheet(1).get('A6:E17')\n",
    "    sub_category_rubric_headers = sub_category_rubric.pop(0)\n",
    "\n",
    "    # Get Total\n",
    "    total = spreadsheet.get_worksheet(1).get('I10') # saves as list of list\n",
    "    total = total[0][0]\n",
    "\n",
    "    # Read Rubrics into DataFrame\n",
    "    df_category_rubric = pd.DataFrame(category_rubric, columns=category_rubric_headers)\n",
    "    df_sub_category_rubric = pd.DataFrame(sub_category_rubric, columns=sub_category_rubric_headers)\n",
    "    df_detailed_rubric = pd.DataFrame(detailed_rubric, columns=rubric_headers)\n",
    "    \n",
    "    # Return all of the dataframes, the student_number and the total\n",
    "    return df_category_rubric, df_sub_category_rubric, df_detailed_rubric, student_number, total"
   ]
  },
  {
   "cell_type": "markdown",
   "metadata": {
    "id": "xDPvThsrtQHC"
   },
   "source": [
    "## Process Results\n",
    "\n",
    "[Code Modularisation] Each set of results can be passed through this method as a dataframe and will be processed accordingly."
   ]
  },
  {
   "cell_type": "code",
   "execution_count": null,
   "metadata": {
    "id": "PZ4d5NxRtQHC"
   },
   "outputs": [],
   "source": [
    "def ProcessResults(df_entry_raw, sheet_index, student_number, transpose=True, has_student_number=False):\n",
    "    \n",
    "    try:\n",
    "    \n",
    "        if transpose:\n",
    "            \n",
    "            # Transpose dataframe\n",
    "            df_entry_transpose = df_entry_raw.transpose()\n",
    "\n",
    "            # Make the Result Row the Headers\n",
    "            df_entry = df_entry_transpose.rename(columns=df_entry_transpose.iloc[0])\n",
    "            \n",
    "            # Remove the Result Row\n",
    "            df_entry = df_entry.iloc[1: , :]\n",
    "\n",
    "            # Remove 'Mark' as the Index\n",
    "            df_entry = df_entry.reset_index(drop=True)\n",
    "\n",
    "\n",
    "        else:\n",
    "            \n",
    "            df_entry = df_entry_raw\n",
    "            \n",
    "        # If the student number is not provided in the dataset, assign it\n",
    "        if has_student_number == False:\n",
    "        \n",
    "            # Add Student Number Column\n",
    "            df_entry['Student Number'] = student_number\n",
    "\n",
    "            # Move Student Number Column to the Front of the DataFrame\n",
    "            cols = list(df_entry.columns)\n",
    "            cols = [cols[-1]] + cols[:-1]\n",
    "            df_entry = df_entry[cols]\n",
    "        \n",
    "        # Write to Excel if something changes, get the new columns and add it to the Results sheet\n",
    "        #df_entry.to_excel('{} Results.xlsx'.format(sheet_index), index=False)\n",
    "        \n",
    "        # Open Results Spreadsheet\n",
    "        spreadsheet = gc.open(\"Results\")\n",
    "\n",
    "        # Records\n",
    "        results_worksheet = spreadsheet.get_worksheet(sheet_index)\n",
    "        results_records = results_worksheet.get_all_values()\n",
    "\n",
    "        results_headers = results_records.pop(0)\n",
    "\n",
    "        # Read Results Records into DataFrame\n",
    "        df_results = pd.DataFrame(results_records, columns=results_headers)\n",
    "\n",
    "        # Check if Student Results Already Recorded\n",
    "        if (df_results['Student Number'] == student_number).any():\n",
    "\n",
    "            # Get Index of Current Student Number\n",
    "            indexes = df_results.index[df_results['Student Number'] == student_number].tolist()\n",
    "\n",
    "            for index in indexes:\n",
    "\n",
    "              # Drop old Record\n",
    "              df_results = df_results.drop(index)\n",
    "\n",
    "        # Add Student Record\n",
    "        df_results = df_results.append(df_entry)\n",
    "\n",
    "        results_worksheet.update(\n",
    "            [df_results.columns.values.tolist()] + [[vv if pd.notnull(vv) else '' for vv in ll] for ll in df_results.values.tolist()]\n",
    "        )\n",
    "        \n",
    "        return True\n",
    "        \n",
    "    except Exception as e:\n",
    "        \n",
    "        print(e)\n",
    "        \n",
    "        return False"
   ]
  },
  {
   "cell_type": "markdown",
   "metadata": {
    "id": "1u_xezPKtQHD"
   },
   "source": [
    "## Process Student Results"
   ]
  },
  {
   "cell_type": "code",
   "execution_count": null,
   "metadata": {
    "id": "6SbNtiqhtQHE"
   },
   "outputs": [],
   "source": [
    "def ProcessStudentResults(workbook):\n",
    "\n",
    "    status = False\n",
    "\n",
    "    results = GetData(workbook)\n",
    "\n",
    "    df_category_rubric = results[0]\n",
    "    df_sub_category_rubric = results[1]\n",
    "    df_detailed_rubric = results[2]\n",
    "    student_number = results[3]\n",
    "    total = results[4]\n",
    "\n",
    "    # Filter columns: Detailed Results \n",
    "    df_entry_raw = df_detailed_rubric[['Criteria','Mark']]\n",
    "    # criteria table: first tab (0) in workbook\n",
    "    status = ProcessResults(df_entry_raw, 0, student_number=student_number)\n",
    "\n",
    "    # Detailed Results Processed Successfully -> Filter columns: Sub-Category Results\n",
    "    if status:\n",
    "\n",
    "        print('Detailed Results Updated')\n",
    "\n",
    "        df_entry_raw = df_sub_category_rubric[['Sub-Category','Mark']]\n",
    "        # second tab (1) in workbook\n",
    "        status = ProcessResults(df_entry_raw, 1, student_number=student_number)\n",
    "\n",
    "    else:\n",
    "\n",
    "        print('Detailed Results NOT Updated')\n",
    "      \n",
    "    # Sub-Category Results Processed Successfully -> Filter columns: Category Results \n",
    "    if status:\n",
    "\n",
    "        print('Sub-Category Results Updated')\n",
    "\n",
    "        df_entry_raw = df_category_rubric[['Category','Mark']]\n",
    "        # third tab (2) in workbook\n",
    "        status = ProcessResults(df_entry_raw, 2, student_number=student_number)\n",
    "\n",
    "    else:\n",
    "\n",
    "        print('Sub-Category Results NOT Updated')\n",
    "\n",
    "    # Category Results Processed Successfully -> Add Total and Display\n",
    "    if status:\n",
    "      \n",
    "        print('Category Results Updated')\n",
    "\n",
    "        df_entry_raw = pd.DataFrame(data=\n",
    "                                  {\n",
    "                                      'Student Number': [student_number], \n",
    "                                      'Total': [total]\n",
    "                                  }, \n",
    "                                  columns=['Student Number','Total'])\n",
    "\n",
    "        # Results tab (tab 3) in the file\n",
    "        status = ProcessResults(df_entry_raw, 3, transpose=False, has_student_number=True, student_number=student_number)\n",
    "\n",
    "        if status:\n",
    "\n",
    "            print('Total Updated')\n",
    "\n",
    "        else:\n",
    "\n",
    "            print('Total NOT Updated')\n",
    "\n",
    "    else:\n",
    "\n",
    "        print('Category Results NOT Updated')"
   ]
  },
  {
   "cell_type": "markdown",
   "metadata": {
    "id": "NcNminh7yi50"
   },
   "source": [
    "## Process All Students"
   ]
  },
  {
   "cell_type": "code",
   "execution_count": null,
   "metadata": {
    "colab": {
     "base_uri": "https://localhost:8080/"
    },
    "id": "JtJDcQoqynYx",
    "outputId": "18933541-c0b2-455d-fb19-96ec099ae981"
   },
   "outputs": [],
   "source": [
    "workbook_list = ['1234567_Rubric', '1234568_Rubric']\n",
    "\n",
    "for workbook in workbook_list:\n",
    "\n",
    "    print(workbook)\n",
    "\n",
    "    ProcessStudentResults(workbook)\n",
    "\n",
    "    print('\\n')"
   ]
  }
 ],
 "metadata": {
  "colab": {
   "collapsed_sections": [
    "wr-boZ3yKESO",
    "V-ZaKCC7MFEI",
    "jaE9m-y-MKRP",
    "8DobQYJDKMjp",
    "q7OqpXeoxs0Y",
    "6N2gxKYktQG9",
    "96pJKqnQtQHA",
    "Du3C0j3euNqG",
    "ftXQAfVttQHB",
    "RbtI03IotQHB",
    "xDPvThsrtQHC",
    "1u_xezPKtQHD",
    "NcNminh7yi50"
   ],
   "name": "[GDrive] Mark Allocation Automation.ipynb",
   "provenance": []
  },
  "kernelspec": {
   "display_name": "Python 3",
   "language": "python",
   "name": "python3"
  },
  "language_info": {
   "codemirror_mode": {
    "name": "ipython",
    "version": 3
   },
   "file_extension": ".py",
   "mimetype": "text/x-python",
   "name": "python",
   "nbconvert_exporter": "python",
   "pygments_lexer": "ipython3",
   "version": "3.8.5"
  }
 },
 "nbformat": 4,
 "nbformat_minor": 1
}
